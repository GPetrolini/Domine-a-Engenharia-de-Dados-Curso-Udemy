{
 "cells": [
  {
   "cell_type": "code",
   "execution_count": 4,
   "id": "031659c5",
   "metadata": {},
   "outputs": [],
   "source": [
    "import mysql.connector \n",
    "import pandas as pd\n",
    "cnx = mysql.connector.connect(user='root',\n",
    "                              password='12345',\n",
    "                              host='localhost',\n",
    "                              database='python'\n",
    "                              )\n",
    "\n",
    "\n",
    "cursor = cnx.cursor()   \n",
    "\n",
    "comando= ''' \n",
    "DELETE FROM python.testepython WHERE nome = \"Edmilson\";\n",
    "\n",
    "'''\n",
    "\n",
    "cursor.execute(comando)\n",
    "cnx.commit()\n",
    "\n",
    "cursor.close()  \n",
    "cnx.close()    \n"
   ]
  }
 ],
 "metadata": {
  "kernelspec": {
   "display_name": "sgbds",
   "language": "python",
   "name": "python3"
  },
  "language_info": {
   "codemirror_mode": {
    "name": "ipython",
    "version": 3
   },
   "file_extension": ".py",
   "mimetype": "text/x-python",
   "name": "python",
   "nbconvert_exporter": "python",
   "pygments_lexer": "ipython3",
   "version": "3.13.3"
  }
 },
 "nbformat": 4,
 "nbformat_minor": 5
}
