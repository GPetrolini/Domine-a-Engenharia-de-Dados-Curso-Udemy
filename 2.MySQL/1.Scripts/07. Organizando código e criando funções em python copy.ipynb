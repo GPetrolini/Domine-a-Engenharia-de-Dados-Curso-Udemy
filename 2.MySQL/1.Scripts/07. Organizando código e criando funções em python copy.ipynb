{
 "cells": [
  {
   "cell_type": "code",
   "execution_count": 8,
   "id": "031659c5",
   "metadata": {},
   "outputs": [],
   "source": [
    "import mysql.connector \n",
    "import pandas as pd\n",
    "\n",
    "def carga_categories(df_categories):\n",
    "    cnx = mysql.connector.connect(user='root',\n",
    "                                password='12345',\n",
    "                                host='localhost',\n",
    "                                database='python'\n",
    "                                )\n",
    "    cursor = cnx.cursor()   \n",
    "    #interage no df e carrega os dados para o banco\n",
    "    for i,df_categories_coluna in df_categories.iterrows():\n",
    "        cursor.execute('select categories_id FROM python.categories where categories_id = %s',( df_categories_coluna['category_id'],))\n",
    "        result=cursor.fetchone()\n",
    "\n",
    "        if not result : \n",
    "            #inserir dados\n",
    "            cursor.execute( \n",
    "            ''' \n",
    "            INSERT INTO python.categories (categories_id,categories_name) VALUES (%s,%s)\n",
    "            ''',(\n",
    "                df_categories_coluna['category_id'],\n",
    "                df_categories_coluna['category_name']\n",
    "            )\n",
    "            )\n",
    "    cnx.commit()\n",
    "    cursor.close()  \n",
    "    cnx.close()    \n",
    "\n",
    "df_categories =pd.read_csv(r'C:\\curso-eng-dados\\Python-SGBDS\\Origem de Dados\\Bikes\\categories.csv',sep=',')\n",
    "\n",
    "#chamar função\n",
    "carga_categories(df_categories)"
   ]
  }
 ],
 "metadata": {
  "kernelspec": {
   "display_name": "sgbds",
   "language": "python",
   "name": "python3"
  },
  "language_info": {
   "codemirror_mode": {
    "name": "ipython",
    "version": 3
   },
   "file_extension": ".py",
   "mimetype": "text/x-python",
   "name": "python",
   "nbconvert_exporter": "python",
   "pygments_lexer": "ipython3",
   "version": "3.13.3"
  }
 },
 "nbformat": 4,
 "nbformat_minor": 5
}
