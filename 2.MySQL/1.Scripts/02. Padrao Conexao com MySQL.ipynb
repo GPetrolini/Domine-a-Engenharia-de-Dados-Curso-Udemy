{
 "cells": [
  {
   "cell_type": "code",
   "execution_count": 5,
   "id": "b4f100b1",
   "metadata": {},
   "outputs": [],
   "source": [
    "import mysql.connector \n",
    "\n",
    "cnx = mysql.connector.connect(user='root',\n",
    "                              password='12345',\n",
    "                              host='localhost',\n",
    "                              database='sakila'\n",
    "                              )\n",
    "\n",
    "\n",
    "cursor = cnx.cursor()           # executa comandos(query,insert,update,etc...)\n",
    "\n",
    "\n",
    "cursor.close()  #fecha cursor\n",
    "cnx.close()       # fecha conexao"
   ]
  },
  {
   "cell_type": "markdown",
   "id": "3859fa83",
   "metadata": {},
   "source": [
    "#### Parametro 2\n"
   ]
  },
  {
   "cell_type": "code",
   "execution_count": null,
   "id": "5e721ed6",
   "metadata": {},
   "outputs": [],
   "source": [
    "import mysql.connector\n",
    "\n",
    "config = {\n",
    "  'user' : 'root',\n",
    "  'password' : '12345',\n",
    "  'host' : 'localhost',\n",
    "  'database' : 'sakila',\n",
    "}\n",
    "cnx = mysql.connector.connect(**config)\n",
    "\n",
    "cnx.close()"
   ]
  }
 ],
 "metadata": {
  "kernelspec": {
   "display_name": "sgbds",
   "language": "python",
   "name": "python3"
  },
  "language_info": {
   "codemirror_mode": {
    "name": "ipython",
    "version": 3
   },
   "file_extension": ".py",
   "mimetype": "text/x-python",
   "name": "python",
   "nbconvert_exporter": "python",
   "pygments_lexer": "ipython3",
   "version": "3.13.3"
  }
 },
 "nbformat": 4,
 "nbformat_minor": 5
}
