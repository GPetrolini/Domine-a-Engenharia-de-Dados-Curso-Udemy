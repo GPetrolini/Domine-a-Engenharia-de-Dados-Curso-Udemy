{
 "cells": [
  {
   "cell_type": "code",
   "execution_count": null,
   "id": "1f33f6a9",
   "metadata": {},
   "outputs": [],
   "source": [
    "import pandas as pd\n",
    "import os"
   ]
  },
  {
   "cell_type": "code",
   "execution_count": null,
   "id": "eca9c7c6",
   "metadata": {},
   "outputs": [],
   "source": [
    "vendas2021 = pd.read_excel(r'C:\\curso-eng-dados\\Python-SGBDS\\Origem de Dados\\Consolidar\\Vendas2021.xlsx')\n",
    "vendas2022 = pd.read_excel(r'C:\\curso-eng-dados\\Python-SGBDS\\Origem de Dados\\Consolidar\\Vendas2022.xlsx')\n",
    "vendas2023 = pd.read_excel(r'C:\\curso-eng-dados\\Python-SGBDS\\Origem de Dados\\Consolidar\\Vendas2023.xlsx')"
   ]
  },
  {
   "cell_type": "code",
   "execution_count": null,
   "id": "504eb4b4",
   "metadata": {},
   "outputs": [],
   "source": [
    "vendas2021.head(3)"
   ]
  },
  {
   "cell_type": "code",
   "execution_count": null,
   "id": "ee99755e",
   "metadata": {},
   "outputs": [],
   "source": [
    "vendas2022.head(3)"
   ]
  },
  {
   "cell_type": "code",
   "execution_count": null,
   "id": "ddcbde12",
   "metadata": {},
   "outputs": [],
   "source": [
    "vendas2023.head(3)"
   ]
  },
  {
   "cell_type": "markdown",
   "id": "d91dc935",
   "metadata": {},
   "source": [
    "Consolidando arquivos de uma pasta"
   ]
  },
  {
   "cell_type": "code",
   "execution_count": null,
   "id": "c65ab22b",
   "metadata": {},
   "outputs": [],
   "source": [
    "import pandas as pd\n",
    "import os\n",
    "\n",
    "# Diretório dos arquivos Excel\n",
    "diretorio = (r'C:\\curso-eng-dados\\Python-SGBDS\\Origem de Dados\\Consolidar')\n",
    "\n",
    "# lista para armazenar os dados dos arquivos\n",
    "dados = []\n",
    "\n",
    "# Iterar sobre os arquivos execel no diretório\n",
    "\n",
    "for arquivo in os.listdir(diretorio):\n",
    "  if arquivo.endswith('xlsx'):\n",
    "    caminho_arquivo = os.path.join(diretorio, arquivo)\n",
    "    df = pd.read_excel(caminho_arquivo)\n",
    "    dados.append(df)\n",
    "\n",
    "# Consolidar os dados de um unico dataframe\n",
    "\n",
    "consolidado = pd.concat(dados)\n",
    "consolidado"
   ]
  },
  {
   "cell_type": "markdown",
   "id": "71184c59",
   "metadata": {},
   "source": [
    "Salvando consolidade em uma pasta especifica formado excel"
   ]
  },
  {
   "cell_type": "code",
   "execution_count": 19,
   "id": "2531b79f",
   "metadata": {},
   "outputs": [],
   "source": [
    "#caminho da pasta onde vai ser salvo o arquivo excel\n",
    "pasta_destino = (r'C:\\\\curso-eng-dados\\\\Python-SGBDS\\\\Origem de Dados\\\\Consolidar\\Arquivos consolidados\\\\')\n",
    "\n",
    "# nome do arquivo excel (variavel)\n",
    "nome_arquivo = 'VendasGeral.xlsx'\n",
    "\n",
    "# Caminho completo do arquivo excel\n",
    "Caminho_completo = pasta_destino + nome_arquivo\n",
    "\n",
    "#Salvar o DataFrame como arquivo excel\n",
    "consolidado.to_excel(Caminho_completo,index=False)\n"
   ]
  },
  {
   "cell_type": "code",
   "execution_count": null,
   "id": "298c4db7",
   "metadata": {},
   "outputs": [],
   "source": [
    "#caminho da pasta onde vai ser salvo o arquivo CSV\n",
    "pasta_destino = (r'C:\\\\curso-eng-dados\\\\Python-SGBDS\\\\Origem de Dados\\\\Consolidar\\Arquivos consolidados\\\\')\n",
    "\n",
    "# nome do arquivo CSV (variavel)\n",
    "nome_arquivo = 'VendasGeral.csv'\n",
    "\n",
    "# Caminho completo do arquivo CSV\n",
    "Caminho_completo = pasta_destino + nome_arquivo\n",
    "\n",
    "#Salvar o DataFrame como arquivo CSV\n",
    "consolidado.to_csv(Caminho_completo,index=False,sep=',')\n"
   ]
  },
  {
   "cell_type": "code",
   "execution_count": 21,
   "id": "e5f7366a",
   "metadata": {},
   "outputs": [],
   "source": [
    "#caminho da pasta onde vai ser salvo o arquivo tXT\n",
    "pasta_destino = (r'C:\\\\curso-eng-dados\\\\Python-SGBDS\\\\Origem de Dados\\\\Consolidar\\Arquivos consolidados\\\\')\n",
    "\n",
    "# nome do arquivo TXT (variavel)\n",
    "nome_arquivo = 'VendasGeral.txt'\n",
    "\n",
    "# Caminho completo do arquivo TXT\n",
    "Caminho_completo = pasta_destino + nome_arquivo\n",
    "\n",
    "#Salvar o DataFrame como arquivo TXT\n",
    "consolidado.to_csv(Caminho_completo,index=False,sep=',')\n"
   ]
  }
 ],
 "metadata": {
  "kernelspec": {
   "display_name": "sgbds",
   "language": "python",
   "name": "python3"
  },
  "language_info": {
   "codemirror_mode": {
    "name": "ipython",
    "version": 3
   },
   "file_extension": ".py",
   "mimetype": "text/x-python",
   "name": "python",
   "nbconvert_exporter": "python",
   "pygments_lexer": "ipython3",
   "version": "3.13.3"
  }
 },
 "nbformat": 4,
 "nbformat_minor": 5
}
