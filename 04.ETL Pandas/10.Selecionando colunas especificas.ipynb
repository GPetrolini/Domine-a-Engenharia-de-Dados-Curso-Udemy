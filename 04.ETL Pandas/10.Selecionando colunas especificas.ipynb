{
 "cells": [
  {
   "cell_type": "code",
   "execution_count": null,
   "id": "f2e15e7f",
   "metadata": {},
   "outputs": [],
   "source": [
    "import pandas as pd"
   ]
  },
  {
   "cell_type": "code",
   "execution_count": null,
   "id": "fa7ace80",
   "metadata": {},
   "outputs": [],
   "source": [
    "df = pd.read_csv(r'C:\\curso-eng-dados\\Python-SGBDS\\Origem de Dados\\arquivos_csv\\Clientes.csv', delimiter=',')\n",
    "df"
   ]
  },
  {
   "cell_type": "code",
   "execution_count": null,
   "id": "1024f01b",
   "metadata": {},
   "outputs": [],
   "source": [
    "# Selecionando colunas especificas\n",
    "dfcolunas = df[[\"id\",\"first_name\",\"email\",\"cell_phone\"]]\n",
    "dfcolunas.head(10)"
   ]
  },
  {
   "cell_type": "markdown",
   "id": "d5332cac",
   "metadata": {},
   "source": [
    "Forma Elegante"
   ]
  },
  {
   "cell_type": "code",
   "execution_count": null,
   "id": "8b9b77aa",
   "metadata": {},
   "outputs": [],
   "source": [
    "Colunas = [\"id\",\"first_name\",\"email\",\"cell_phone\"]\n",
    "dfcolunas2 = df[Colunas]\n",
    "\n",
    "dfcolunas2.head()"
   ]
  }
 ],
 "metadata": {
  "kernelspec": {
   "display_name": "sgbds",
   "language": "python",
   "name": "python3"
  },
  "language_info": {
   "name": "python",
   "version": "3.13.3"
  }
 },
 "nbformat": 4,
 "nbformat_minor": 5
}
