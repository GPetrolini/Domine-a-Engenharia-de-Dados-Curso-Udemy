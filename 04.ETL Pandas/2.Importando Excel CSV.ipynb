{
 "cells": [
  {
   "cell_type": "code",
   "execution_count": 12,
   "id": "8168baff",
   "metadata": {},
   "outputs": [],
   "source": [
    "import pandas as pd"
   ]
  },
  {
   "cell_type": "code",
   "execution_count": null,
   "id": "703d9c97",
   "metadata": {},
   "outputs": [],
   "source": [
    "df = pd.read_csv(r'C:\\curso-eng-dados\\Python-SGBDS\\Origem de Dados\\arquivos_csv\\Clientes.csv',delimiter=',')\n",
    "df.head()"
   ]
  },
  {
   "cell_type": "code",
   "execution_count": null,
   "id": "08e652ce",
   "metadata": {},
   "outputs": [],
   "source": [
    "# Filtrar 1 item especifico de uma coluna\n",
    "estado = df.loc[df['state']=='Mato Grosso']\n"
   ]
  },
  {
   "cell_type": "code",
   "execution_count": null,
   "id": "53f5279a",
   "metadata": {},
   "outputs": [],
   "source": [
    "estado"
   ]
  },
  {
   "cell_type": "code",
   "execution_count": null,
   "id": "afd259bd",
   "metadata": {},
   "outputs": [],
   "source": [
    "# escolher estados especificos \n",
    "estados = ['Rio de Janeiro', 'Ceará', 'Rondônia', ' Bahia']\n",
    "Df_estados = df.loc[df['state'].isin(estados)]\n",
    "Df_estados"
   ]
  },
  {
   "cell_type": "code",
   "execution_count": null,
   "id": "7fc18556",
   "metadata": {},
   "outputs": [],
   "source": [
    "Df_estados2 = df.loc[df['state'].isin(['Rio de Janeiro', 'Ceará', 'Rondônia', ' Bahia'])]\n",
    "Df_estados2"
   ]
  },
  {
   "cell_type": "markdown",
   "id": "bb941ce6",
   "metadata": {},
   "source": [
    "Testando nulos"
   ]
  },
  {
   "cell_type": "code",
   "execution_count": null,
   "id": "35998b44",
   "metadata": {},
   "outputs": [],
   "source": [
    "df"
   ]
  },
  {
   "cell_type": "code",
   "execution_count": null,
   "id": "41f7e1e1",
   "metadata": {},
   "outputs": [],
   "source": [
    "#Substituir valores nulos\n",
    "df['street'] = df['street'].fillna('Nao Registrado')\n",
    "df"
   ]
  },
  {
   "cell_type": "code",
   "execution_count": null,
   "id": "ea39726f",
   "metadata": {},
   "outputs": [],
   "source": [
    "df['street'] = df['street'].fillna('Nao Registrado')\n",
    "df['number'] = df['number'].fillna('Sem numero')\n",
    "df['additionals'] = df['addiotionals'].fillna('Sem registro')\n"
   ]
  },
  {
   "cell_type": "markdown",
   "id": "7e5e9378",
   "metadata": {},
   "source": [
    "Método replace"
   ]
  },
  {
   "cell_type": "code",
   "execution_count": null,
   "id": "a1e6fb25",
   "metadata": {},
   "outputs": [],
   "source": [
    "# Substituindo os nomes dos estados no DataFrame\n",
    "\"\"\"\n",
    "df['Coluna'] = df['coluna'].replace(valor_original, valor_substituto)\n",
    "\"\"\""
   ]
  },
  {
   "cell_type": "code",
   "execution_count": null,
   "id": "3f40a772",
   "metadata": {},
   "outputs": [],
   "source": [
    "# resetar DF\n",
    "df = pd.read_csv(r'C:\\curso-eng-dados\\Python-SGBDS\\Origem de Dados\\arquivos_csv\\Clientes.csv',delimiter=',')\n",
    "df.head()"
   ]
  },
  {
   "cell_type": "code",
   "execution_count": null,
   "id": "855f827c",
   "metadata": {},
   "outputs": [],
   "source": [
    "df['state'] = df['state'].replace('São Paulo', 'Sao Paulo')"
   ]
  },
  {
   "cell_type": "code",
   "execution_count": null,
   "id": "12c4ac76",
   "metadata": {},
   "outputs": [],
   "source": [
    "# FAzendo substituição de uma valor especifico\n",
    "valor_original = 'São Paulo'\n",
    "valor_substituto = 'SP'\n",
    "df['state'] = df['state'].replace(valor_original, valor_substituto)"
   ]
  },
  {
   "cell_type": "code",
   "execution_count": null,
   "id": "62836b4d",
   "metadata": {},
   "outputs": [],
   "source": [
    "# Mapeando os nome dos estados para substituir\n",
    "# OBS itens criados entre chaves {} significa dicionario\n",
    "\n",
    "mapeamento = ('Maranhão': 'Maranhao', 'Piauí':'Piaui')\n",
    "\n",
    "df['state'] = df['state'].replace(mapeamento)"
   ]
  }
 ],
 "metadata": {
  "kernelspec": {
   "display_name": "sgbds",
   "language": "python",
   "name": "python3"
  },
  "language_info": {
   "codemirror_mode": {
    "name": "ipython",
    "version": 3
   },
   "file_extension": ".py",
   "mimetype": "text/x-python",
   "name": "python",
   "nbconvert_exporter": "python",
   "pygments_lexer": "ipython3",
   "version": "3.13.3"
  }
 },
 "nbformat": 4,
 "nbformat_minor": 5
}
