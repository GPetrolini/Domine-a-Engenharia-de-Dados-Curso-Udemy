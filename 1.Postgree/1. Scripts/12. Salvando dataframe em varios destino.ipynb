{
 "cells": [
  {
   "cell_type": "code",
   "execution_count": 10,
   "id": "5f7f4180",
   "metadata": {},
   "outputs": [
    {
     "data": {
      "text/html": [
       "<div>\n",
       "<style scoped>\n",
       "    .dataframe tbody tr th:only-of-type {\n",
       "        vertical-align: middle;\n",
       "    }\n",
       "\n",
       "    .dataframe tbody tr th {\n",
       "        vertical-align: top;\n",
       "    }\n",
       "\n",
       "    .dataframe thead th {\n",
       "        text-align: right;\n",
       "    }\n",
       "</style>\n",
       "<table border=\"1\" class=\"dataframe\">\n",
       "  <thead>\n",
       "    <tr style=\"text-align: right;\">\n",
       "      <th></th>\n",
       "      <th>id</th>\n",
       "      <th>dt_ocorrencia</th>\n",
       "      <th>uf</th>\n",
       "      <th>regiao</th>\n",
       "      <th>classificacao_da_ocorrencia</th>\n",
       "    </tr>\n",
       "  </thead>\n",
       "  <tbody>\n",
       "    <tr>\n",
       "      <th>0</th>\n",
       "      <td>7762</td>\n",
       "      <td>2018-03-21</td>\n",
       "      <td>SP</td>\n",
       "      <td>Sudeste</td>\n",
       "      <td>Incidente</td>\n",
       "    </tr>\n",
       "    <tr>\n",
       "      <th>1</th>\n",
       "      <td>7759</td>\n",
       "      <td>2018-03-14</td>\n",
       "      <td>MG</td>\n",
       "      <td>Sudeste</td>\n",
       "      <td>Acidente</td>\n",
       "    </tr>\n",
       "    <tr>\n",
       "      <th>2</th>\n",
       "      <td>7758</td>\n",
       "      <td>2018-01-26</td>\n",
       "      <td>GO</td>\n",
       "      <td>Centro-Oeste</td>\n",
       "      <td>Acidente</td>\n",
       "    </tr>\n",
       "    <tr>\n",
       "      <th>3</th>\n",
       "      <td>7758</td>\n",
       "      <td>2018-01-26</td>\n",
       "      <td>GO</td>\n",
       "      <td>Centro-Oeste</td>\n",
       "      <td>Acidente</td>\n",
       "    </tr>\n",
       "    <tr>\n",
       "      <th>4</th>\n",
       "      <td>7757</td>\n",
       "      <td>2018-03-18</td>\n",
       "      <td>RS</td>\n",
       "      <td>Sul</td>\n",
       "      <td>Incidente Grave</td>\n",
       "    </tr>\n",
       "  </tbody>\n",
       "</table>\n",
       "</div>"
      ],
      "text/plain": [
       "     id dt_ocorrencia  uf        regiao classificacao_da_ocorrencia\n",
       "0  7762    2018-03-21  SP       Sudeste                   Incidente\n",
       "1  7759    2018-03-14  MG       Sudeste                    Acidente\n",
       "2  7758    2018-01-26  GO  Centro-Oeste                    Acidente\n",
       "3  7758    2018-01-26  GO  Centro-Oeste                    Acidente\n",
       "4  7757    2018-03-18  RS           Sul             Incidente Grave"
      ]
     },
     "execution_count": 10,
     "metadata": {},
     "output_type": "execute_result"
    }
   ],
   "source": [
    "from sqlalchemy import create_engine\n",
    "import pandas as pd\n",
    "dbname   = 'python'\n",
    "user     = 'postgres'\n",
    "password = '0415Petrol'\n",
    "host     = 'localhost'\n",
    "port     = '5432' \n",
    "\n",
    "conexao_str = f'postgresql://{user}:{password}@{host}:{port}/{dbname}'\n",
    "engine = create_engine(conexao_str)\n",
    "\n",
    "query = \"\"\"\n",
    "\n",
    "select\n",
    "id\n",
    ",dt_ocorrencia\n",
    ",uf\n",
    ",regiao\n",
    ",classificacao_da_ocorrencia\n",
    "from public.anac_mapeamento\n",
    "\n",
    "\"\"\"\n",
    "df=pd.read_sql_query(query,engine)\n",
    "df.head(5)"
   ]
  },
  {
   "cell_type": "code",
   "execution_count": 11,
   "id": "3892c0b9",
   "metadata": {},
   "outputs": [],
   "source": [
    "#JSON\n",
    "pasta_destino_json = r\"C:\\curso-eng-dados\\Python-SGBDS\\Arquivos\\Destino\\Anac.json\"\n",
    "df.to_json(pasta_destino_json,orient=\"index\")\n",
    "#orient       = orientação de formatação\n",
    "#lines = true = separados por quebras de linhas\n",
    "#tipode de orientação = records,index,columns,bvalues,tables"
   ]
  },
  {
   "cell_type": "code",
   "execution_count": 6,
   "id": "4cfa56a7",
   "metadata": {},
   "outputs": [],
   "source": [
    "#Excel\n",
    "pasta_destino_excel = r\"C:\\curso-eng-dados\\Python-SGBDS\\Arquivos\\Destino\\Anac.xlsx\"\n",
    "df.to_excel(pasta_destino_excel, index = False, sheet_name=\"Base\")\n",
    "#sheet_name = guia de planilha\n",
    "#index = indide do python"
   ]
  },
  {
   "cell_type": "code",
   "execution_count": 7,
   "id": "450c99cb",
   "metadata": {},
   "outputs": [],
   "source": [
    "#csv\n",
    "pasta_destino_csv = r\"C:\\curso-eng-dados\\Python-SGBDS\\Arquivos\\Destino\\Anac.csv\"\n",
    "df.to_csv(pasta_destino_csv,sep=',')\n",
    "\n",
    "#sep = separador"
   ]
  },
  {
   "cell_type": "code",
   "execution_count": 8,
   "id": "8142a652",
   "metadata": {},
   "outputs": [],
   "source": [
    "#define o caminho do arquivo parquet\n",
    "# !pip install pyarrow\n",
    "# !pip install fastparquet\n",
    "\n",
    "pasta_destino_parquet = r\"C:\\curso-eng-dados\\Python-SGBDS\\Arquivos\\Destino\\Anac.parquet\"\n",
    "# salva o dataframe em um arquivo parquet\n",
    "df.to_parquet(pasta_destino_parquet, index=False,engine='pyarrow')"
   ]
  },
  {
   "cell_type": "code",
   "execution_count": 9,
   "id": "ef01c025",
   "metadata": {},
   "outputs": [],
   "source": [
    "# especifica as colunas para particionamento\n",
    "pasta_destino_particionado = r\"C:\\curso-eng-dados\\Python-SGBDS\\Arquivos\\Destino\\Anac_particionado.parquet\"\n",
    "colunas_particionamento = ['regiao','uf']\n",
    "# salva o dataframe em arquivo parquet particionado\n",
    "df.to_parquet(pasta_destino_particionado,index=False,\n",
    "              partition_cols=colunas_particionamento,\n",
    "              engine='pyarrow')"
   ]
  }
 ],
 "metadata": {
  "kernelspec": {
   "display_name": "sgbds",
   "language": "python",
   "name": "python3"
  },
  "language_info": {
   "codemirror_mode": {
    "name": "ipython",
    "version": 3
   },
   "file_extension": ".py",
   "mimetype": "text/x-python",
   "name": "python",
   "nbconvert_exporter": "python",
   "pygments_lexer": "ipython3",
   "version": "3.13.3"
  }
 },
 "nbformat": 4,
 "nbformat_minor": 5
}
