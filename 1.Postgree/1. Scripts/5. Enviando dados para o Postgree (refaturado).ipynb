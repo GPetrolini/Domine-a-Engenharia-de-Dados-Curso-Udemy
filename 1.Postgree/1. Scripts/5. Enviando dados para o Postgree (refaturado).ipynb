{
 "cells": [
  {
   "cell_type": "code",
   "execution_count": 6,
   "id": "044a0c82",
   "metadata": {},
   "outputs": [],
   "source": [
    "import pandas as pd\n",
    "import psycopg2 "
   ]
  },
  {
   "cell_type": "code",
   "execution_count": 7,
   "id": "b45b103c",
   "metadata": {},
   "outputs": [],
   "source": [
    "\n",
    "caminho_do_arquivo = r\"C:\\curso-eng-dados\\Python-SGBDS\\Arquivos/Origem de dados/V_OCORRENCIA_AMPLA.json\"\n",
    "df = pd.read_json(caminho_do_arquivo, encoding='utf-8-sig')\n"
   ]
  },
  {
   "cell_type": "code",
   "execution_count": 8,
   "id": "4f257d16",
   "metadata": {},
   "outputs": [],
   "source": [
    "colunas = [\"Numero_da_Ocorrencia\", \"Classificacao_da_Ocorrência\", \"Data_da_Ocorrencia\", \"Municipio\", \"UF\", \"Regiao\",\"Nome_do_Fabricante\"]\n",
    "df = df[colunas]\n",
    "df.rename( columns={ 'Classificacao_da_Ocorrência' : 'Classificacao_da_Ocorrencia'} ,inplace=True) "
   ]
  },
  {
   "cell_type": "code",
   "execution_count": 10,
   "id": "2abab1ba",
   "metadata": {},
   "outputs": [],
   "source": [
    "\n",
    "\n",
    "# Parâmetros de conexão\n",
    "dbname = 'python'\n",
    "user = 'postgres'\n",
    "password = '********'\n",
    "host = 'localhost'\n",
    "port = '5432'\n",
    "\n",
    "conn = psycopg2.connect(dbname=dbname, user=user, password=password, host=host, port=port)\n",
    "\n",
    "cur = conn.cursor() # criar um cursos deixa manipular  os dados\n",
    "\n",
    "#delete base antes da carga\n",
    "\n",
    "cur.execute(\"delete from public.Anac\")\n",
    "\n",
    "for indice,coluna_df in df.iterrows():\n",
    "    cur.execute(\"\"\"\n",
    "insert into Anac (     \n",
    "\t\t\t      Numero_da_Ocorrencia, \n",
    "            Classificacao_da_Ocorrencia, \n",
    "            Data_da_Ocorrencia, \n",
    "            Municipio, \n",
    "            UF, \n",
    "            Regiao, \n",
    "            Nome_do_Fabricante\n",
    "        ) VALUES (%s,%s,%s,%s,%s,%s,%s)\n",
    "            \"\"\" , (\n",
    "                coluna_df[\"Numero_da_Ocorrencia\"],\n",
    "                coluna_df[\"Classificacao_da_Ocorrencia\"],\n",
    "                coluna_df[\"Data_da_Ocorrencia\"],\n",
    "                coluna_df[\"Municipio\"],\n",
    "                coluna_df[\"UF\"],\n",
    "                coluna_df[\"Regiao\"],\n",
    "                coluna_df[\"Nome_do_Fabricante\"],\n",
    "\n",
    "            )\n",
    "                \n",
    "                )\n",
    "\n",
    "conn.commit() # Validas alterações no banco de dados e subir para o BD\n",
    "\n",
    "#fechar o cursor e a conexão\n",
    "cur.close()\n",
    "conn.close()"
   ]
  },
  {
   "cell_type": "code",
   "execution_count": null,
   "id": "6e113057",
   "metadata": {},
   "outputs": [],
   "source": []
  }
 ],
 "metadata": {
  "kernelspec": {
   "display_name": "sgbds",
   "language": "python",
   "name": "python3"
  },
  "language_info": {
   "codemirror_mode": {
    "name": "ipython",
    "version": 3
   },
   "file_extension": ".py",
   "mimetype": "text/x-python",
   "name": "python",
   "nbconvert_exporter": "python",
   "pygments_lexer": "ipython3",
   "version": "3.13.3"
  }
 },
 "nbformat": 4,
 "nbformat_minor": 5
}
