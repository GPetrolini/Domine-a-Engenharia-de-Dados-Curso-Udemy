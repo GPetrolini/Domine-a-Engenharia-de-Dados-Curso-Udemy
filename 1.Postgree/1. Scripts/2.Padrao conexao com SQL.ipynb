{
 "cells": [
  {
   "cell_type": "markdown",
   "id": "15135b77",
   "metadata": {},
   "source": [
    "# pip install psycopg2"
   ]
  },
  {
   "cell_type": "code",
   "execution_count": 1,
   "id": "e052c248",
   "metadata": {},
   "outputs": [],
   "source": [
    "import psycopg2 \n",
    "\n",
    "# Parâmetros de conexão\n",
    "dbname = 'postgres'\n",
    "user = 'postgres'\n",
    "password = '********'\n",
    "host = 'localhost'\n",
    "port = '5432'\n",
    "\n",
    "# Cria uma conexão\n",
    "conn = psycopg2.connect(dbname=dbname, user=user, password=password, host=host, port=port)\n",
    "\n",
    "cur = conn.cursor() # criar um cursos deixa manipular  os dados\n",
    "\n",
    "conn.commit() # Validas alterações no banco de dados e subir para o BD\n",
    "\n",
    "#fechar o cursor e a conexão\n",
    "cur.close()\n",
    "conn.close()"
   ]
  }
 ],
 "metadata": {
  "kernelspec": {
   "display_name": "sgbds",
   "language": "python",
   "name": "python3"
  },
  "language_info": {
   "codemirror_mode": {
    "name": "ipython",
    "version": 3
   },
   "file_extension": ".py",
   "mimetype": "text/x-python",
   "name": "python",
   "nbconvert_exporter": "python",
   "pygments_lexer": "ipython3",
   "version": "3.13.3"
  }
 },
 "nbformat": 4,
 "nbformat_minor": 5
}
