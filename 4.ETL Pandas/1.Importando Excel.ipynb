{
 "cells": [
  {
   "cell_type": "code",
   "execution_count": 13,
   "id": "af210631",
   "metadata": {},
   "outputs": [],
   "source": [
    "import pandas as pd"
   ]
  },
  {
   "cell_type": "code",
   "execution_count": null,
   "id": "1ef33299",
   "metadata": {},
   "outputs": [],
   "source": [
    "df = pd.read_excel(r'C:\\curso-eng-dados\\Python-SGBDS\\Origem de Dados\\arquivos_excel\\Produto.xlsx')\n",
    "df.head()"
   ]
  },
  {
   "cell_type": "code",
   "execution_count": null,
   "id": "c3d6f917",
   "metadata": {},
   "outputs": [],
   "source": [
    "# df_calca = df.loc[df['name'] == 'Calça'] localizar 1 item especifico de uma coluna\n",
    "df_calca = df.loc[df['Name'] == 'Calça']"
   ]
  },
  {
   "cell_type": "code",
   "execution_count": null,
   "id": "5490cadf",
   "metadata": {},
   "outputs": [],
   "source": [
    "df_calca"
   ]
  },
  {
   "cell_type": "code",
   "execution_count": null,
   "id": "0149c102",
   "metadata": {},
   "outputs": [],
   "source": [
    "itens = ['Calça','TV','Perfume','Fogao']\n",
    "df_itens = df.loc[df['Name'].isin(itens)]"
   ]
  },
  {
   "cell_type": "code",
   "execution_count": null,
   "id": "adc46273",
   "metadata": {},
   "outputs": [],
   "source": [
    "df_itens"
   ]
  },
  {
   "cell_type": "code",
   "execution_count": null,
   "id": "7a2cccb5",
   "metadata": {},
   "outputs": [],
   "source": [
    "df2 = df.loc[df['Name'].isin(['Calça','TV','Perfume','Fogao'])]\n",
    "df2"
   ]
  },
  {
   "cell_type": "code",
   "execution_count": 15,
   "id": "aed0a332",
   "metadata": {},
   "outputs": [],
   "source": [
    "# localizar valor > que escolher\n",
    "dfmais1000 = df.loc[df['Price'] > 1000]"
   ]
  },
  {
   "cell_type": "code",
   "execution_count": 16,
   "id": "1cc294b3",
   "metadata": {},
   "outputs": [
    {
     "data": {
      "text/html": [
       "<div>\n",
       "<style scoped>\n",
       "    .dataframe tbody tr th:only-of-type {\n",
       "        vertical-align: middle;\n",
       "    }\n",
       "\n",
       "    .dataframe tbody tr th {\n",
       "        vertical-align: top;\n",
       "    }\n",
       "\n",
       "    .dataframe thead th {\n",
       "        text-align: right;\n",
       "    }\n",
       "</style>\n",
       "<table border=\"1\" class=\"dataframe\">\n",
       "  <thead>\n",
       "    <tr style=\"text-align: right;\">\n",
       "      <th></th>\n",
       "      <th>ID</th>\n",
       "      <th>Name</th>\n",
       "      <th>Price</th>\n",
       "      <th>Id_Category</th>\n",
       "    </tr>\n",
       "  </thead>\n",
       "  <tbody>\n",
       "    <tr>\n",
       "      <th>1</th>\n",
       "      <td>1</td>\n",
       "      <td>Bolsa mais que Velha</td>\n",
       "      <td>8000</td>\n",
       "      <td>0</td>\n",
       "    </tr>\n",
       "    <tr>\n",
       "      <th>10</th>\n",
       "      <td>10</td>\n",
       "      <td>Geladeira</td>\n",
       "      <td>1952</td>\n",
       "      <td>2</td>\n",
       "    </tr>\n",
       "    <tr>\n",
       "      <th>11</th>\n",
       "      <td>11</td>\n",
       "      <td>Fogão</td>\n",
       "      <td>1373</td>\n",
       "      <td>2</td>\n",
       "    </tr>\n",
       "    <tr>\n",
       "      <th>12</th>\n",
       "      <td>12</td>\n",
       "      <td>TV</td>\n",
       "      <td>1992</td>\n",
       "      <td>2</td>\n",
       "    </tr>\n",
       "    <tr>\n",
       "      <th>13</th>\n",
       "      <td>13</td>\n",
       "      <td>Máquina de Lavar</td>\n",
       "      <td>1826</td>\n",
       "      <td>2</td>\n",
       "    </tr>\n",
       "  </tbody>\n",
       "</table>\n",
       "</div>"
      ],
      "text/plain": [
       "    ID                  Name  Price  Id_Category\n",
       "1    1  Bolsa mais que Velha   8000            0\n",
       "10  10             Geladeira   1952            2\n",
       "11  11                 Fogão   1373            2\n",
       "12  12                    TV   1992            2\n",
       "13  13      Máquina de Lavar   1826            2"
      ]
     },
     "execution_count": 16,
     "metadata": {},
     "output_type": "execute_result"
    }
   ],
   "source": [
    "dfmais1000.head()"
   ]
  },
  {
   "cell_type": "code",
   "execution_count": 17,
   "id": "fdc2c087",
   "metadata": {},
   "outputs": [],
   "source": [
    "df200a1000 = df.loc[(df['Price']> 200) & (df['Price']<= 1000)]"
   ]
  },
  {
   "cell_type": "code",
   "execution_count": 18,
   "id": "b782166d",
   "metadata": {},
   "outputs": [
    {
     "data": {
      "text/html": [
       "<div>\n",
       "<style scoped>\n",
       "    .dataframe tbody tr th:only-of-type {\n",
       "        vertical-align: middle;\n",
       "    }\n",
       "\n",
       "    .dataframe tbody tr th {\n",
       "        vertical-align: top;\n",
       "    }\n",
       "\n",
       "    .dataframe thead th {\n",
       "        text-align: right;\n",
       "    }\n",
       "</style>\n",
       "<table border=\"1\" class=\"dataframe\">\n",
       "  <thead>\n",
       "    <tr style=\"text-align: right;\">\n",
       "      <th></th>\n",
       "      <th>ID</th>\n",
       "      <th>Name</th>\n",
       "      <th>Price</th>\n",
       "      <th>Id_Category</th>\n",
       "    </tr>\n",
       "  </thead>\n",
       "  <tbody>\n",
       "    <tr>\n",
       "      <th>7</th>\n",
       "      <td>7</td>\n",
       "      <td>Hidratante caro</td>\n",
       "      <td>800</td>\n",
       "      <td>1</td>\n",
       "    </tr>\n",
       "    <tr>\n",
       "      <th>35</th>\n",
       "      <td>35</td>\n",
       "      <td>Video-Game</td>\n",
       "      <td>602</td>\n",
       "      <td>7</td>\n",
       "    </tr>\n",
       "    <tr>\n",
       "      <th>36</th>\n",
       "      <td>36</td>\n",
       "      <td>Máquina Fotográfica</td>\n",
       "      <td>377</td>\n",
       "      <td>7</td>\n",
       "    </tr>\n",
       "    <tr>\n",
       "      <th>37</th>\n",
       "      <td>37</td>\n",
       "      <td>Notebook</td>\n",
       "      <td>493</td>\n",
       "      <td>7</td>\n",
       "    </tr>\n",
       "    <tr>\n",
       "      <th>38</th>\n",
       "      <td>38</td>\n",
       "      <td>PC</td>\n",
       "      <td>385</td>\n",
       "      <td>7</td>\n",
       "    </tr>\n",
       "  </tbody>\n",
       "</table>\n",
       "</div>"
      ],
      "text/plain": [
       "    ID                 Name  Price  Id_Category\n",
       "7    7      Hidratante caro    800            1\n",
       "35  35           Video-Game    602            7\n",
       "36  36  Máquina Fotográfica    377            7\n",
       "37  37             Notebook    493            7\n",
       "38  38                   PC    385            7"
      ]
     },
     "execution_count": 18,
     "metadata": {},
     "output_type": "execute_result"
    }
   ],
   "source": [
    "df200a1000.head()"
   ]
  }
 ],
 "metadata": {
  "kernelspec": {
   "display_name": "sgbds",
   "language": "python",
   "name": "python3"
  },
  "language_info": {
   "codemirror_mode": {
    "name": "ipython",
    "version": 3
   },
   "file_extension": ".py",
   "mimetype": "text/x-python",
   "name": "python",
   "nbconvert_exporter": "python",
   "pygments_lexer": "ipython3",
   "version": "3.13.3"
  }
 },
 "nbformat": 4,
 "nbformat_minor": 5
}
