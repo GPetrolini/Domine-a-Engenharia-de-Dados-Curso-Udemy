{
 "cells": [
  {
   "cell_type": "code",
   "execution_count": null,
   "id": "b1dac740",
   "metadata": {},
   "outputs": [],
   "source": [
    "import pandas as pd\n",
    "import os\n",
    "\n",
    "# Diretório dos arquivos Excel\n",
    "diretorio = (r'C:\\curso-eng-dados\\Python-SGBDS\\Origem de Dados\\Consolidar')\n",
    "\n",
    "# lista para armazenar os dados dos arquivos\n",
    "dados = []\n",
    "\n",
    "# Iterar sobre os arquivos execel no diretório\n",
    "\n",
    "for arquivo in os.listdir(diretorio):\n",
    "  if arquivo.endswith('xlsx'):\n",
    "    caminho_arquivo = os.path.join(diretorio, arquivo)\n",
    "    df = pd.read_excel(caminho_arquivo)\n",
    "    dados.append(df)\n",
    "\n",
    "# Consolidar os dados de um unico dataframe\n",
    "\n",
    "consolidado = pd.concat(dados)\n",
    "consolidado"
   ]
  }
 ],
 "metadata": {
  "kernelspec": {
   "display_name": "sgbds",
   "language": "python",
   "name": "python3"
  },
  "language_info": {
   "name": "python",
   "version": "3.13.3"
  }
 },
 "nbformat": 4,
 "nbformat_minor": 5
}
