{
 "cells": [
  {
   "cell_type": "code",
   "execution_count": null,
   "id": "1542b9c9",
   "metadata": {},
   "outputs": [],
   "source": [
    "import pandas as pd\n",
    "import os\n",
    "\n",
    "# Diretório dos arquivos Excel\n",
    "diretorio = (r'C:\\curso-eng-dados\\Python-SGBDS\\Origem de Dados\\Consolidar')\n",
    "\n",
    "# lista para armazenar os dados dos arquivos\n",
    "dados = []\n",
    "\n",
    "# Iterar sobre os arquivos execel no diretório\n",
    "\n",
    "for arquivo in os.listdir(diretorio):\n",
    "  if arquivo.endswith('xlsx'):\n",
    "    caminho_arquivo = os.path.join(diretorio, arquivo)\n",
    "    df = pd.read_excel(caminho_arquivo)\n",
    "    dados.append(df)\n",
    "\n",
    "# Consolidar os dados de um unico dataframe\n",
    "\n",
    "consolidado = pd.concat(dados)\n",
    "consolidado"
   ]
  },
  {
   "cell_type": "markdown",
   "id": "fe8ffb4a",
   "metadata": {},
   "source": [
    "Verificar se o arquivo ja existe e adicionar no final"
   ]
  },
  {
   "cell_type": "code",
   "execution_count": null,
   "id": "f49a76e1",
   "metadata": {},
   "outputs": [],
   "source": [
    "#caminho da pasta onde vai ser salvo o arquivo excel\n",
    "pasta_destino = (r'C:\\\\curso-eng-dados\\\\Python-SGBDS\\\\Origem de Dados\\\\Consolidar\\Arquivos consolidados\\\\')\n",
    "\n",
    "# nome do arquivo excel (variavel)\n",
    "nome_arquivo = 'VendasGeralTeste.xlsx'\n",
    "\n",
    "# Caminho completo do arquivo excel\n",
    "Caminho_completo = pasta_destino + nome_arquivo\n",
    "\n",
    "if os.path.exists(Caminho_completo):\n",
    "  #carregar o arquivo excel consolidado existente em um data frame\n",
    "  df_existente = pd.read_excel(Caminho_completo)\n",
    "  #Adicionar os dados existentes ao DataFrama consolidado\n",
    "  dados.append(df_existente)\n",
    "\n",
    "#consolidar os dados de um unico data frame\n",
    "Consolidado_excel = pd.concat(dados)"
   ]
  },
  {
   "cell_type": "code",
   "execution_count": null,
   "id": "bb3f7520",
   "metadata": {},
   "outputs": [],
   "source": []
  }
 ],
 "metadata": {
  "kernelspec": {
   "display_name": "sgbds",
   "language": "python",
   "name": "python3"
  },
  "language_info": {
   "codemirror_mode": {
    "name": "ipython",
    "version": 3
   },
   "file_extension": ".py",
   "mimetype": "text/x-python",
   "name": "python",
   "nbconvert_exporter": "python",
   "pygments_lexer": "ipython3",
   "version": "3.13.3"
  }
 },
 "nbformat": 4,
 "nbformat_minor": 5
}
