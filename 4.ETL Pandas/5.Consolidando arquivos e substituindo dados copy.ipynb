{
 "cells": [
  {
   "cell_type": "code",
   "execution_count": null,
   "id": "b1dac740",
   "metadata": {},
   "outputs": [],
   "source": [
    "import pandas as pd\n",
    "import os\n",
    "\n",
    "# Diretório dos arquivos Excel\n",
    "diretorio = (r'C:\\curso-eng-dados\\Python-SGBDS\\Origem de Dados\\Consolidar')\n",
    "\n",
    "# lista para armazenar os dados dos arquivos\n",
    "dados = []\n",
    "\n",
    "# Iterar sobre os arquivos execel no diretório\n",
    "\n",
    "for arquivo in os.listdir(diretorio):\n",
    "  if arquivo.endswith('xlsx'):\n",
    "    caminho_arquivo = os.path.join(diretorio, arquivo)\n",
    "    df = pd.read_excel(caminho_arquivo)\n",
    "    dados.append(df)\n",
    "\n",
    "# Consolidar os dados de um unico dataframe\n",
    "\n",
    "consolidado = pd.concat(dados)\n",
    "consolidado"
   ]
  },
  {
   "cell_type": "code",
   "execution_count": null,
   "id": "cc8aad66",
   "metadata": {},
   "outputs": [],
   "source": [
    "#caminho da pasta onde vai ser salvo o arquivo excel\n",
    "pasta_destino = (r'C:\\\\curso-eng-dados\\\\Python-SGBDS\\\\Origem de Dados\\\\Consolidar\\Arquivos consolidados\\\\')\n",
    "\n",
    "# nome do arquivo excel (variavel)\n",
    "nome_arquivo = 'VendasGeralDelete.xlsx'\n",
    "\n",
    "# Caminho completo do arquivo excel\n",
    "Caminho_completo = pasta_destino + nome_arquivo\n",
    "\n",
    "if os.path.exists(Caminho_completo):\n",
    "  #excluir o arquivo existente\n",
    "  os.remove(Caminho_completo)\n",
    "  #print (f\"Arquivo {nome_arquivo} existente foi excluiído.\")\n",
    "\n",
    "#consolidar os dados de um unico data frame\n",
    "Consolidado_excel = pd.concat(dados)"
   ]
  }
 ],
 "metadata": {
  "language_info": {
   "name": "python"
  }
 },
 "nbformat": 4,
 "nbformat_minor": 5
}
