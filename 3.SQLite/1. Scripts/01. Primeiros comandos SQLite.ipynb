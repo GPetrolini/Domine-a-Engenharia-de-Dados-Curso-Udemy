{
 "cells": [
  {
   "cell_type": "markdown",
   "id": "5d3a3f49",
   "metadata": {},
   "source": [
    "Conexão Básica - DB na mesma pasta do projeto\n"
   ]
  },
  {
   "cell_type": "code",
   "execution_count": 4,
   "id": "f63e6663",
   "metadata": {},
   "outputs": [],
   "source": [
    "import sqlite3\n",
    "con = sqlite3.connect(\"tutorial.db\")\n",
    "\n",
    "cursor = con.cursor()\n",
    "\n",
    "#cursor.execute(\"CREATE TABLE produto (id,Nome,valor)\") # cria tabela\n",
    "cursor.execute(\"insert into produto (Id,Nome,valor) VALUES (1,'Tenis',203)\")\n",
    "\n",
    "con.commit()\n",
    "con.close()"
   ]
  },
  {
   "cell_type": "code",
   "execution_count": 5,
   "id": "5c1d865a",
   "metadata": {},
   "outputs": [
    {
     "data": {
      "text/html": [
       "<div>\n",
       "<style scoped>\n",
       "    .dataframe tbody tr th:only-of-type {\n",
       "        vertical-align: middle;\n",
       "    }\n",
       "\n",
       "    .dataframe tbody tr th {\n",
       "        vertical-align: top;\n",
       "    }\n",
       "\n",
       "    .dataframe thead th {\n",
       "        text-align: right;\n",
       "    }\n",
       "</style>\n",
       "<table border=\"1\" class=\"dataframe\">\n",
       "  <thead>\n",
       "    <tr style=\"text-align: right;\">\n",
       "      <th></th>\n",
       "      <th>id</th>\n",
       "      <th>Nome</th>\n",
       "      <th>valor</th>\n",
       "    </tr>\n",
       "  </thead>\n",
       "  <tbody>\n",
       "    <tr>\n",
       "      <th>0</th>\n",
       "      <td>1</td>\n",
       "      <td>Tenis</td>\n",
       "      <td>203</td>\n",
       "    </tr>\n",
       "  </tbody>\n",
       "</table>\n",
       "</div>"
      ],
      "text/plain": [
       "   id   Nome  valor\n",
       "0   1  Tenis    203"
      ]
     },
     "execution_count": 5,
     "metadata": {},
     "output_type": "execute_result"
    }
   ],
   "source": [
    "import sqlite3\n",
    "import pandas as pd\n",
    "con = sqlite3.connect(\"tutorial.db\")\n",
    "\n",
    "cursor = con.cursor()\n",
    "\n",
    "query = \"\"\" select * from  produto  \"\"\"\n",
    "\n",
    "\n",
    "df = pd.read_sql(query,con)\n",
    "\n",
    "con.close()\n",
    "df.head()"
   ]
  },
  {
   "cell_type": "code",
   "execution_count": 8,
   "id": "0af25789",
   "metadata": {},
   "outputs": [],
   "source": [
    "import sqlite3\n",
    "con = sqlite3.connect(r\"C:\\curso-eng-dados\\Python-SGBDS\\3.SQLite\\Banco de dados\\teste.db\")\n",
    "\n",
    "cursor = con.cursor()\n",
    "\n",
    "cursor.execute(\"CREATE TABLE produto2 (id,Nome,valor)\") # cria tabela\n",
    "cursor.execute(\"insert into produto2 (Id,Nome,valor) VALUES (1,'Tenis',203)\")\n",
    "\n",
    "con.commit()\n",
    "con.close()"
   ]
  },
  {
   "cell_type": "code",
   "execution_count": 10,
   "id": "d19c8213",
   "metadata": {},
   "outputs": [
    {
     "data": {
      "text/html": [
       "<div>\n",
       "<style scoped>\n",
       "    .dataframe tbody tr th:only-of-type {\n",
       "        vertical-align: middle;\n",
       "    }\n",
       "\n",
       "    .dataframe tbody tr th {\n",
       "        vertical-align: top;\n",
       "    }\n",
       "\n",
       "    .dataframe thead th {\n",
       "        text-align: right;\n",
       "    }\n",
       "</style>\n",
       "<table border=\"1\" class=\"dataframe\">\n",
       "  <thead>\n",
       "    <tr style=\"text-align: right;\">\n",
       "      <th></th>\n",
       "      <th>id</th>\n",
       "      <th>Nome</th>\n",
       "      <th>valor</th>\n",
       "    </tr>\n",
       "  </thead>\n",
       "  <tbody>\n",
       "    <tr>\n",
       "      <th>0</th>\n",
       "      <td>1</td>\n",
       "      <td>Tenis</td>\n",
       "      <td>203</td>\n",
       "    </tr>\n",
       "  </tbody>\n",
       "</table>\n",
       "</div>"
      ],
      "text/plain": [
       "   id   Nome  valor\n",
       "0   1  Tenis    203"
      ]
     },
     "execution_count": 10,
     "metadata": {},
     "output_type": "execute_result"
    }
   ],
   "source": [
    "#Ver dados em DF pasta externa\n",
    "import sqlite3\n",
    "import pandas as pd\n",
    "\n",
    "caminho_db = r\"C:\\curso-eng-dados\\Python-SGBDS\\3.SQLite\\Banco de dados\\teste.db\"\n",
    "con2 = sqlite3.connect(caminho_db)\n",
    "\n",
    "cursor = con2.cursor()\n",
    "query2 = \"\"\" select * from  produto2  \"\"\"\n",
    "\n",
    "df2 = pd.read_sql(query2,con2)\n",
    "\n",
    "con2.close()\n",
    "df2.head()"
   ]
  },
  {
   "cell_type": "code",
   "execution_count": null,
   "id": "20d8464d",
   "metadata": {},
   "outputs": [],
   "source": []
  }
 ],
 "metadata": {
  "kernelspec": {
   "display_name": "sgbds",
   "language": "python",
   "name": "python3"
  },
  "language_info": {
   "codemirror_mode": {
    "name": "ipython",
    "version": 3
   },
   "file_extension": ".py",
   "mimetype": "text/x-python",
   "name": "python",
   "nbconvert_exporter": "python",
   "pygments_lexer": "ipython3",
   "version": "3.13.3"
  }
 },
 "nbformat": 4,
 "nbformat_minor": 5
}
